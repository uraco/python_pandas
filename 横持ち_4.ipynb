{
 "cells": [
  {
   "cell_type": "code",
   "execution_count": 1,
   "metadata": {
    "collapsed": true
   },
   "outputs": [],
   "source": [
    "import pandas as pd"
   ]
  },
  {
   "cell_type": "code",
   "execution_count": 2,
   "metadata": {
    "collapsed": false
   },
   "outputs": [
    {
     "data": {
      "text/html": [
       "<div>\n",
       "<table border=\"1\" class=\"dataframe\">\n",
       "  <thead>\n",
       "    <tr style=\"text-align: right;\">\n",
       "      <th></th>\n",
       "      <th>ID</th>\n",
       "      <th>number</th>\n",
       "      <th>item</th>\n",
       "    </tr>\n",
       "  </thead>\n",
       "  <tbody>\n",
       "    <tr>\n",
       "      <th>0</th>\n",
       "      <td>A</td>\n",
       "      <td>111</td>\n",
       "      <td>nn</td>\n",
       "    </tr>\n",
       "    <tr>\n",
       "      <th>1</th>\n",
       "      <td>A</td>\n",
       "      <td>123</td>\n",
       "      <td>mm</td>\n",
       "    </tr>\n",
       "    <tr>\n",
       "      <th>2</th>\n",
       "      <td>A</td>\n",
       "      <td>211</td>\n",
       "      <td>op</td>\n",
       "    </tr>\n",
       "    <tr>\n",
       "      <th>3</th>\n",
       "      <td>B</td>\n",
       "      <td>121</td>\n",
       "      <td>nm</td>\n",
       "    </tr>\n",
       "    <tr>\n",
       "      <th>4</th>\n",
       "      <td>B</td>\n",
       "      <td>333</td>\n",
       "      <td>nn</td>\n",
       "    </tr>\n",
       "    <tr>\n",
       "      <th>5</th>\n",
       "      <td>C</td>\n",
       "      <td>232</td>\n",
       "      <td>bb</td>\n",
       "    </tr>\n",
       "  </tbody>\n",
       "</table>\n",
       "</div>"
      ],
      "text/plain": [
       "  ID  number item\n",
       "0  A     111   nn\n",
       "1  A     123   mm\n",
       "2  A     211   op\n",
       "3  B     121   nm\n",
       "4  B     333   nn\n",
       "5  C     232   bb"
      ]
     },
     "execution_count": 2,
     "metadata": {},
     "output_type": "execute_result"
    }
   ],
   "source": [
    "df = pd.DataFrame([['A', 111, 'nn'], ['A', 123, 'mm'], ['A', 211, 'op'],\n",
    "  ['B', 121, 'nm'], ['B', 333, 'nn'],['C',232,'bb']], columns=['ID','number','item'])\n",
    "df"
   ]
  },
  {
   "cell_type": "code",
   "execution_count": null,
   "metadata": {
    "collapsed": true
   },
   "outputs": [],
   "source": [
    "#完成形\n",
    "\n",
    "df[\"tmpindex\"]=df.index\n",
    "df.tmpindex=df.groupby('ID').tmpindex.rank(ascending=True)\n",
    "df[\"numberindex\"]=df.tmpindex.apply(lambda x: \"number{}\".format(int(x)))\n",
    "df[\"itemindex\"]=df.tmpindex.apply(lambda x: \"item{}\".format(int(x)))\n",
    "df_pv=pd.concat(\n",
    "                [\n",
    "                 df.pivot(index=\"ID\", columns=\"numberindex\",values=\"number\"),\n",
    "                 df.pivot(index=\"ID\", columns=\"itemindex\",values=\"item\")\n",
    "                 ],\n",
    "                axis=1)\n",
    "df_pv[\"ID\"]=df_pv.index\n",
    "df_pv.reset_index(drop=True).ix[:,[-1]+list(range(df_pv.shape[1]-1))]"
   ]
  },
  {
   "cell_type": "code",
   "execution_count": null,
   "metadata": {
    "collapsed": true
   },
   "outputs": [],
   "source": [
    "df = pd.DataFrame([['A', 111, 'nn'], ['A', 123, 'mm'], ['A', 211, 'op'],\n",
    "  ['B', 121, 'nm'], ['B', 333, 'nn'],['C',232,'bb']], columns=['ID','number','item'])\n",
    "df"
   ]
  },
  {
   "cell_type": "code",
   "execution_count": 6,
   "metadata": {
    "collapsed": false
   },
   "outputs": [
    {
     "data": {
      "text/plain": [
       "0    1.0\n",
       "1    2.0\n",
       "2    3.0\n",
       "3    1.0\n",
       "4    2.0\n",
       "5    1.0\n",
       "Name: tmpindex, dtype: float64"
      ]
     },
     "execution_count": 6,
     "metadata": {},
     "output_type": "execute_result"
    }
   ],
   "source": [
    "#dfのindexをそのままコピーして、「tmpindex」というカラムに追加\n",
    "\n",
    "df[\"tmpindex\"]=df.index\n",
    "\n",
    "#追加したカラムの値を、「ID」でグループにして昇順にランキング\n",
    "#例えば、Aなら「1,2,3」をランキング→「1,2,3」、Bなら「2,3」でランキング→「1,2」\n",
    "#df['tmpindex']=df.groupby('ID').tmpindex.rank(ascending=True)　でも書き方は同じ\n",
    "\n",
    "df.tmpindex=df.groupby('ID').tmpindex.rank(ascending=True)\n",
    "df.tmpindex"
   ]
  },
  {
   "cell_type": "code",
   "execution_count": 8,
   "metadata": {
    "collapsed": false
   },
   "outputs": [
    {
     "data": {
      "text/html": [
       "<div>\n",
       "<table border=\"1\" class=\"dataframe\">\n",
       "  <thead>\n",
       "    <tr style=\"text-align: right;\">\n",
       "      <th></th>\n",
       "      <th>ID</th>\n",
       "      <th>number</th>\n",
       "      <th>item</th>\n",
       "      <th>tmpindex</th>\n",
       "      <th>numberindex</th>\n",
       "      <th>itemindex</th>\n",
       "    </tr>\n",
       "  </thead>\n",
       "  <tbody>\n",
       "    <tr>\n",
       "      <th>0</th>\n",
       "      <td>A</td>\n",
       "      <td>111</td>\n",
       "      <td>nn</td>\n",
       "      <td>1.0</td>\n",
       "      <td>number1</td>\n",
       "      <td>item1</td>\n",
       "    </tr>\n",
       "    <tr>\n",
       "      <th>1</th>\n",
       "      <td>A</td>\n",
       "      <td>123</td>\n",
       "      <td>mm</td>\n",
       "      <td>2.0</td>\n",
       "      <td>number2</td>\n",
       "      <td>item2</td>\n",
       "    </tr>\n",
       "    <tr>\n",
       "      <th>2</th>\n",
       "      <td>A</td>\n",
       "      <td>211</td>\n",
       "      <td>op</td>\n",
       "      <td>3.0</td>\n",
       "      <td>number3</td>\n",
       "      <td>item3</td>\n",
       "    </tr>\n",
       "    <tr>\n",
       "      <th>3</th>\n",
       "      <td>B</td>\n",
       "      <td>121</td>\n",
       "      <td>nm</td>\n",
       "      <td>1.0</td>\n",
       "      <td>number1</td>\n",
       "      <td>item1</td>\n",
       "    </tr>\n",
       "    <tr>\n",
       "      <th>4</th>\n",
       "      <td>B</td>\n",
       "      <td>333</td>\n",
       "      <td>nn</td>\n",
       "      <td>2.0</td>\n",
       "      <td>number2</td>\n",
       "      <td>item2</td>\n",
       "    </tr>\n",
       "    <tr>\n",
       "      <th>5</th>\n",
       "      <td>C</td>\n",
       "      <td>232</td>\n",
       "      <td>bb</td>\n",
       "      <td>1.0</td>\n",
       "      <td>number1</td>\n",
       "      <td>item1</td>\n",
       "    </tr>\n",
       "  </tbody>\n",
       "</table>\n",
       "</div>"
      ],
      "text/plain": [
       "  ID  number item  tmpindex numberindex itemindex\n",
       "0  A     111   nn       1.0     number1     item1\n",
       "1  A     123   mm       2.0     number2     item2\n",
       "2  A     211   op       3.0     number3     item3\n",
       "3  B     121   nm       1.0     number1     item1\n",
       "4  B     333   nn       2.0     number2     item2\n",
       "5  C     232   bb       1.0     number1     item1"
      ]
     },
     "execution_count": 8,
     "metadata": {},
     "output_type": "execute_result"
    }
   ],
   "source": [
    "#新しいカラム「numberindex」を追加し、”number”という文字の後ろに「tmpindex」の値を整数にして追加\n",
    "\n",
    "df[\"numberindex\"]=df.tmpindex.apply(lambda x: \"number{}\".format(int(x)))\n",
    "\n",
    "#新しいカラム「itemindex」を追加し、”item”という文字の後ろに「tmpindex」の値を整数にして追加\n",
    "\n",
    "df[\"itemindex\"]=df.tmpindex.apply(lambda x: \"item{}\".format(int(x)))\n",
    "\n",
    "df"
   ]
  },
  {
   "cell_type": "code",
   "execution_count": 9,
   "metadata": {
    "collapsed": false
   },
   "outputs": [
    {
     "data": {
      "text/html": [
       "<div>\n",
       "<table border=\"1\" class=\"dataframe\">\n",
       "  <thead>\n",
       "    <tr style=\"text-align: right;\">\n",
       "      <th></th>\n",
       "      <th>number1</th>\n",
       "      <th>number2</th>\n",
       "      <th>number3</th>\n",
       "      <th>item1</th>\n",
       "      <th>item2</th>\n",
       "      <th>item3</th>\n",
       "    </tr>\n",
       "    <tr>\n",
       "      <th>ID</th>\n",
       "      <th></th>\n",
       "      <th></th>\n",
       "      <th></th>\n",
       "      <th></th>\n",
       "      <th></th>\n",
       "      <th></th>\n",
       "    </tr>\n",
       "  </thead>\n",
       "  <tbody>\n",
       "    <tr>\n",
       "      <th>A</th>\n",
       "      <td>111.0</td>\n",
       "      <td>123.0</td>\n",
       "      <td>211.0</td>\n",
       "      <td>nn</td>\n",
       "      <td>mm</td>\n",
       "      <td>op</td>\n",
       "    </tr>\n",
       "    <tr>\n",
       "      <th>B</th>\n",
       "      <td>121.0</td>\n",
       "      <td>333.0</td>\n",
       "      <td>NaN</td>\n",
       "      <td>nm</td>\n",
       "      <td>nn</td>\n",
       "      <td>None</td>\n",
       "    </tr>\n",
       "    <tr>\n",
       "      <th>C</th>\n",
       "      <td>232.0</td>\n",
       "      <td>NaN</td>\n",
       "      <td>NaN</td>\n",
       "      <td>bb</td>\n",
       "      <td>None</td>\n",
       "      <td>None</td>\n",
       "    </tr>\n",
       "  </tbody>\n",
       "</table>\n",
       "</div>"
      ],
      "text/plain": [
       "    number1  number2  number3 item1 item2 item3\n",
       "ID                                             \n",
       "A     111.0    123.0    211.0    nn    mm    op\n",
       "B     121.0    333.0      NaN    nm    nn  None\n",
       "C     232.0      NaN      NaN    bb  None  None"
      ]
     },
     "execution_count": 9,
     "metadata": {},
     "output_type": "execute_result"
    }
   ],
   "source": [
    "#dfを「numberindex」でピボットしたものと、「itemindex」でピボットしたものを、横につなげて、新しいdataframe「df_pv」をつくる\n",
    "\n",
    "df_pv=pd.concat(\n",
    "                [\n",
    "                 df.pivot(index=\"ID\", columns=\"numberindex\",values=\"number\"),\n",
    "                 df.pivot(index=\"ID\", columns=\"itemindex\",values=\"item\")\n",
    "                 ],\n",
    "                axis=1)\n",
    "\n",
    "df_pv"
   ]
  },
  {
   "cell_type": "code",
   "execution_count": 11,
   "metadata": {
    "collapsed": false
   },
   "outputs": [
    {
     "data": {
      "text/html": [
       "<div>\n",
       "<table border=\"1\" class=\"dataframe\">\n",
       "  <thead>\n",
       "    <tr style=\"text-align: right;\">\n",
       "      <th></th>\n",
       "      <th>number1</th>\n",
       "      <th>number2</th>\n",
       "      <th>number3</th>\n",
       "      <th>item1</th>\n",
       "      <th>item2</th>\n",
       "      <th>item3</th>\n",
       "      <th>ID</th>\n",
       "    </tr>\n",
       "    <tr>\n",
       "      <th>ID</th>\n",
       "      <th></th>\n",
       "      <th></th>\n",
       "      <th></th>\n",
       "      <th></th>\n",
       "      <th></th>\n",
       "      <th></th>\n",
       "      <th></th>\n",
       "    </tr>\n",
       "  </thead>\n",
       "  <tbody>\n",
       "    <tr>\n",
       "      <th>A</th>\n",
       "      <td>111.0</td>\n",
       "      <td>123.0</td>\n",
       "      <td>211.0</td>\n",
       "      <td>nn</td>\n",
       "      <td>mm</td>\n",
       "      <td>op</td>\n",
       "      <td>A</td>\n",
       "    </tr>\n",
       "    <tr>\n",
       "      <th>B</th>\n",
       "      <td>121.0</td>\n",
       "      <td>333.0</td>\n",
       "      <td>NaN</td>\n",
       "      <td>nm</td>\n",
       "      <td>nn</td>\n",
       "      <td>None</td>\n",
       "      <td>B</td>\n",
       "    </tr>\n",
       "    <tr>\n",
       "      <th>C</th>\n",
       "      <td>232.0</td>\n",
       "      <td>NaN</td>\n",
       "      <td>NaN</td>\n",
       "      <td>bb</td>\n",
       "      <td>None</td>\n",
       "      <td>None</td>\n",
       "      <td>C</td>\n",
       "    </tr>\n",
       "  </tbody>\n",
       "</table>\n",
       "</div>"
      ],
      "text/plain": [
       "    number1  number2  number3 item1 item2 item3 ID\n",
       "ID                                                \n",
       "A     111.0    123.0    211.0    nn    mm    op  A\n",
       "B     121.0    333.0      NaN    nm    nn  None  B\n",
       "C     232.0      NaN      NaN    bb  None  None  C"
      ]
     },
     "execution_count": 11,
     "metadata": {},
     "output_type": "execute_result"
    }
   ],
   "source": [
    "#df_pvに新しいカラム「ID」を追加、df_pvのインデックスの値（A,B,C）で\n",
    "\n",
    "df_pv[\"ID\"]=df_pv.index\n",
    "df_pv"
   ]
  },
  {
   "cell_type": "code",
   "execution_count": 17,
   "metadata": {
    "collapsed": false
   },
   "outputs": [
    {
     "data": {
      "text/html": [
       "<div>\n",
       "<table border=\"1\" class=\"dataframe\">\n",
       "  <thead>\n",
       "    <tr style=\"text-align: right;\">\n",
       "      <th></th>\n",
       "      <th>ID</th>\n",
       "      <th>number1</th>\n",
       "      <th>number2</th>\n",
       "      <th>number3</th>\n",
       "      <th>item1</th>\n",
       "      <th>item2</th>\n",
       "      <th>item3</th>\n",
       "    </tr>\n",
       "  </thead>\n",
       "  <tbody>\n",
       "    <tr>\n",
       "      <th>0</th>\n",
       "      <td>A</td>\n",
       "      <td>111.0</td>\n",
       "      <td>123.0</td>\n",
       "      <td>211.0</td>\n",
       "      <td>nn</td>\n",
       "      <td>mm</td>\n",
       "      <td>op</td>\n",
       "    </tr>\n",
       "    <tr>\n",
       "      <th>1</th>\n",
       "      <td>B</td>\n",
       "      <td>121.0</td>\n",
       "      <td>333.0</td>\n",
       "      <td>NaN</td>\n",
       "      <td>nm</td>\n",
       "      <td>nn</td>\n",
       "      <td>None</td>\n",
       "    </tr>\n",
       "    <tr>\n",
       "      <th>2</th>\n",
       "      <td>C</td>\n",
       "      <td>232.0</td>\n",
       "      <td>NaN</td>\n",
       "      <td>NaN</td>\n",
       "      <td>bb</td>\n",
       "      <td>None</td>\n",
       "      <td>None</td>\n",
       "    </tr>\n",
       "  </tbody>\n",
       "</table>\n",
       "</div>"
      ],
      "text/plain": [
       "  ID  number1  number2  number3 item1 item2 item3\n",
       "0  A    111.0    123.0    211.0    nn    mm    op\n",
       "1  B    121.0    333.0      NaN    nm    nn  None\n",
       "2  C    232.0      NaN      NaN    bb  None  None"
      ]
     },
     "execution_count": 17,
     "metadata": {},
     "output_type": "execute_result"
    }
   ],
   "source": [
    "#整形　インデックスを削除して並べ替え　行全てと最後の1列、その1列をひいた6列を順番に（カラムを数字のリストで指定している）下の3つのセルを参照\n",
    "\n",
    "df_pv.reset_index(drop=True).ix[:,[-1]+list(range(df_pv.shape[1]-1))]"
   ]
  },
  {
   "cell_type": "code",
   "execution_count": 14,
   "metadata": {
    "collapsed": false
   },
   "outputs": [
    {
     "data": {
      "text/html": [
       "<div>\n",
       "<table border=\"1\" class=\"dataframe\">\n",
       "  <thead>\n",
       "    <tr style=\"text-align: right;\">\n",
       "      <th></th>\n",
       "      <th>ID</th>\n",
       "    </tr>\n",
       "    <tr>\n",
       "      <th>ID</th>\n",
       "      <th></th>\n",
       "    </tr>\n",
       "  </thead>\n",
       "  <tbody>\n",
       "    <tr>\n",
       "      <th>A</th>\n",
       "      <td>A</td>\n",
       "    </tr>\n",
       "    <tr>\n",
       "      <th>B</th>\n",
       "      <td>B</td>\n",
       "    </tr>\n",
       "    <tr>\n",
       "      <th>C</th>\n",
       "      <td>C</td>\n",
       "    </tr>\n",
       "  </tbody>\n",
       "</table>\n",
       "</div>"
      ],
      "text/plain": [
       "   ID\n",
       "ID   \n",
       "A   A\n",
       "B   B\n",
       "C   C"
      ]
     },
     "execution_count": 14,
     "metadata": {},
     "output_type": "execute_result"
    }
   ],
   "source": [
    "#行全てと、後ろから1列（-はうしろから、の意味）\n",
    "df_pv.ix[:,[-1]]"
   ]
  },
  {
   "cell_type": "code",
   "execution_count": 15,
   "metadata": {
    "collapsed": false
   },
   "outputs": [
    {
     "data": {
      "text/plain": [
       "[0, 1, 2, 3, 4, 5]"
      ]
     },
     "execution_count": 15,
     "metadata": {},
     "output_type": "execute_result"
    }
   ],
   "source": [
    "list(range(df_pv.shape[1]-1))"
   ]
  },
  {
   "cell_type": "code",
   "execution_count": 16,
   "metadata": {
    "collapsed": false
   },
   "outputs": [
    {
     "data": {
      "text/plain": [
       "7"
      ]
     },
     "execution_count": 16,
     "metadata": {},
     "output_type": "execute_result"
    }
   ],
   "source": [
    "df_pv.shape[1]"
   ]
  },
  {
   "cell_type": "code",
   "execution_count": null,
   "metadata": {
    "collapsed": true
   },
   "outputs": [],
   "source": []
  }
 ],
 "metadata": {
  "kernelspec": {
   "display_name": "Python 2",
   "language": "python",
   "name": "python2"
  },
  "language_info": {
   "codemirror_mode": {
    "name": "ipython",
    "version": 2
   },
   "file_extension": ".py",
   "mimetype": "text/x-python",
   "name": "python",
   "nbconvert_exporter": "python",
   "pygments_lexer": "ipython2",
   "version": "2.7.11"
  }
 },
 "nbformat": 4,
 "nbformat_minor": 0
}
